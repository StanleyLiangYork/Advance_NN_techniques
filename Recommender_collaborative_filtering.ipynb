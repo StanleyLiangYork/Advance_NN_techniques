{
  "nbformat": 4,
  "nbformat_minor": 0,
  "metadata": {
    "colab": {
      "provenance": [],
      "authorship_tag": "ABX9TyMtmRB3aIZCtvItYHKmw/Zk",
      "include_colab_link": true
    },
    "kernelspec": {
      "name": "python3",
      "display_name": "Python 3"
    },
    "language_info": {
      "name": "python"
    }
  },
  "cells": [
    {
      "cell_type": "markdown",
      "metadata": {
        "id": "view-in-github",
        "colab_type": "text"
      },
      "source": [
        "<a href=\"https://colab.research.google.com/github/StanleyLiangYork/Advance_NN_techniques/blob/main/Recommender_collaborative_filtering.ipynb\" target=\"_parent\"><img src=\"https://colab.research.google.com/assets/colab-badge.svg\" alt=\"Open In Colab\"/></a>"
      ]
    },
    {
      "cell_type": "markdown",
      "source": [
        "Recommendation System or recommender is a type of AI model that predicts users’ preferences over multiple products. Recommenders are used in a variety of areas, like video and music services, e-commerce, and social media platforms.<p>\n",
        "The commonly used recommenders are:\n",
        "\n",
        "\n",
        "1.   Content-Based filtering based on product features\n",
        "2.   Collaborative filtering based on user similarity\n",
        "3.   Knowledge based filtering based on personal information\n",
        "\n",
        "This notebook demonstrates the implementation of collaborative filtering with cosine similarity\n",
        "\n",
        "\n"
      ],
      "metadata": {
        "id": "rhHgYB7kCqKW"
      }
    },
    {
      "cell_type": "code",
      "execution_count": 4,
      "metadata": {
        "colab": {
          "base_uri": "https://localhost:8080/"
        },
        "id": "pMyEEu93CYd6",
        "outputId": "b90dbb1c-3904-4a22-e1be-9a266d5eff1e"
      },
      "outputs": [
        {
          "output_type": "stream",
          "name": "stdout",
          "text": [
            "--2023-01-18 01:39:35--  https://storage.googleapis.com/pet-detect-239118/recommender/ratings_small.csv\n",
            "Resolving storage.googleapis.com (storage.googleapis.com)... 173.194.79.128, 108.177.127.128, 142.251.31.128, ...\n",
            "Connecting to storage.googleapis.com (storage.googleapis.com)|173.194.79.128|:443... connected.\n",
            "HTTP request sent, awaiting response... 200 OK\n",
            "Length: 2438266 (2.3M) [text/csv]\n",
            "Saving to: ‘ratings_small.csv’\n",
            "\n",
            "ratings_small.csv   100%[===================>]   2.33M  4.94MB/s    in 0.5s    \n",
            "\n",
            "2023-01-18 01:39:36 (4.94 MB/s) - ‘ratings_small.csv’ saved [2438266/2438266]\n",
            "\n",
            "--2023-01-18 01:39:36--  http://./ratings_small.csv\n",
            "Resolving . (.)... failed: No address associated with hostname.\n",
            "wget: unable to resolve host address ‘.’\n",
            "FINISHED --2023-01-18 01:39:36--\n",
            "Total wall clock time: 0.8s\n",
            "Downloaded: 1 files, 2.3M in 0.5s (4.94 MB/s)\n"
          ]
        }
      ],
      "source": [
        "# copy the dataset from the Cloud storage\n",
        "!wget https://storage.googleapis.com/pet-detect-239118/recommender/ratings_small.csv ./ratings_small.csv"
      ]
    },
    {
      "cell_type": "markdown",
      "source": [
        "In this type of recommendation system, `we do not need any information` about the users or items. We only need user item interaction data to build a collaborative recommendation system. For example - \n",
        "<ol>\n",
        "    <li><b>Ratings</b> provided by users. For example - ratings of books on goodread, movie ratings on imdb etc</li>\n",
        "    <li><b>Likes</b> of users on different facebook posts, likes on youtube videos</li>\n",
        "    <li><b>Use/buying</b> of a product by users. For example - buying different items on e-commerce sites</li>\n",
        "    <li><b>Reading</b> of articles by readers on various blogs</li>\n",
        "</ol>    "
      ],
      "metadata": {
        "id": "zI4y445xhZyJ"
      }
    },
    {
      "cell_type": "code",
      "source": [
        "import numpy as np\n",
        "import pandas as pd\n",
        "import seaborn as sns\n",
        "import matplotlib.pyplot as plt"
      ],
      "metadata": {
        "id": "GxbSukVShUNT"
      },
      "execution_count": 2,
      "outputs": []
    },
    {
      "cell_type": "code",
      "source": [
        "dataset = pd.read_csv('ratings_small.csv')"
      ],
      "metadata": {
        "id": "9QtBvIqCh3sX"
      },
      "execution_count": 5,
      "outputs": []
    },
    {
      "cell_type": "code",
      "source": [
        "dataset.head()"
      ],
      "metadata": {
        "colab": {
          "base_uri": "https://localhost:8080/",
          "height": 206
        },
        "id": "zBVNRftfiCl7",
        "outputId": "b36451dc-b0aa-4ebf-8024-ccdc246f6ba2"
      },
      "execution_count": 7,
      "outputs": [
        {
          "output_type": "execute_result",
          "data": {
            "text/plain": [
              "   userId  movieId  rating   timestamp\n",
              "0       1       31     2.5  1260759144\n",
              "1       1     1029     3.0  1260759179\n",
              "2       1     1061     3.0  1260759182\n",
              "3       1     1129     2.0  1260759185\n",
              "4       1     1172     4.0  1260759205"
            ],
            "text/html": [
              "\n",
              "  <div id=\"df-9088ba8a-e2eb-4f8d-ba8a-99ae2978122a\">\n",
              "    <div class=\"colab-df-container\">\n",
              "      <div>\n",
              "<style scoped>\n",
              "    .dataframe tbody tr th:only-of-type {\n",
              "        vertical-align: middle;\n",
              "    }\n",
              "\n",
              "    .dataframe tbody tr th {\n",
              "        vertical-align: top;\n",
              "    }\n",
              "\n",
              "    .dataframe thead th {\n",
              "        text-align: right;\n",
              "    }\n",
              "</style>\n",
              "<table border=\"1\" class=\"dataframe\">\n",
              "  <thead>\n",
              "    <tr style=\"text-align: right;\">\n",
              "      <th></th>\n",
              "      <th>userId</th>\n",
              "      <th>movieId</th>\n",
              "      <th>rating</th>\n",
              "      <th>timestamp</th>\n",
              "    </tr>\n",
              "  </thead>\n",
              "  <tbody>\n",
              "    <tr>\n",
              "      <th>0</th>\n",
              "      <td>1</td>\n",
              "      <td>31</td>\n",
              "      <td>2.5</td>\n",
              "      <td>1260759144</td>\n",
              "    </tr>\n",
              "    <tr>\n",
              "      <th>1</th>\n",
              "      <td>1</td>\n",
              "      <td>1029</td>\n",
              "      <td>3.0</td>\n",
              "      <td>1260759179</td>\n",
              "    </tr>\n",
              "    <tr>\n",
              "      <th>2</th>\n",
              "      <td>1</td>\n",
              "      <td>1061</td>\n",
              "      <td>3.0</td>\n",
              "      <td>1260759182</td>\n",
              "    </tr>\n",
              "    <tr>\n",
              "      <th>3</th>\n",
              "      <td>1</td>\n",
              "      <td>1129</td>\n",
              "      <td>2.0</td>\n",
              "      <td>1260759185</td>\n",
              "    </tr>\n",
              "    <tr>\n",
              "      <th>4</th>\n",
              "      <td>1</td>\n",
              "      <td>1172</td>\n",
              "      <td>4.0</td>\n",
              "      <td>1260759205</td>\n",
              "    </tr>\n",
              "  </tbody>\n",
              "</table>\n",
              "</div>\n",
              "      <button class=\"colab-df-convert\" onclick=\"convertToInteractive('df-9088ba8a-e2eb-4f8d-ba8a-99ae2978122a')\"\n",
              "              title=\"Convert this dataframe to an interactive table.\"\n",
              "              style=\"display:none;\">\n",
              "        \n",
              "  <svg xmlns=\"http://www.w3.org/2000/svg\" height=\"24px\"viewBox=\"0 0 24 24\"\n",
              "       width=\"24px\">\n",
              "    <path d=\"M0 0h24v24H0V0z\" fill=\"none\"/>\n",
              "    <path d=\"M18.56 5.44l.94 2.06.94-2.06 2.06-.94-2.06-.94-.94-2.06-.94 2.06-2.06.94zm-11 1L8.5 8.5l.94-2.06 2.06-.94-2.06-.94L8.5 2.5l-.94 2.06-2.06.94zm10 10l.94 2.06.94-2.06 2.06-.94-2.06-.94-.94-2.06-.94 2.06-2.06.94z\"/><path d=\"M17.41 7.96l-1.37-1.37c-.4-.4-.92-.59-1.43-.59-.52 0-1.04.2-1.43.59L10.3 9.45l-7.72 7.72c-.78.78-.78 2.05 0 2.83L4 21.41c.39.39.9.59 1.41.59.51 0 1.02-.2 1.41-.59l7.78-7.78 2.81-2.81c.8-.78.8-2.07 0-2.86zM5.41 20L4 18.59l7.72-7.72 1.47 1.35L5.41 20z\"/>\n",
              "  </svg>\n",
              "      </button>\n",
              "      \n",
              "  <style>\n",
              "    .colab-df-container {\n",
              "      display:flex;\n",
              "      flex-wrap:wrap;\n",
              "      gap: 12px;\n",
              "    }\n",
              "\n",
              "    .colab-df-convert {\n",
              "      background-color: #E8F0FE;\n",
              "      border: none;\n",
              "      border-radius: 50%;\n",
              "      cursor: pointer;\n",
              "      display: none;\n",
              "      fill: #1967D2;\n",
              "      height: 32px;\n",
              "      padding: 0 0 0 0;\n",
              "      width: 32px;\n",
              "    }\n",
              "\n",
              "    .colab-df-convert:hover {\n",
              "      background-color: #E2EBFA;\n",
              "      box-shadow: 0px 1px 2px rgba(60, 64, 67, 0.3), 0px 1px 3px 1px rgba(60, 64, 67, 0.15);\n",
              "      fill: #174EA6;\n",
              "    }\n",
              "\n",
              "    [theme=dark] .colab-df-convert {\n",
              "      background-color: #3B4455;\n",
              "      fill: #D2E3FC;\n",
              "    }\n",
              "\n",
              "    [theme=dark] .colab-df-convert:hover {\n",
              "      background-color: #434B5C;\n",
              "      box-shadow: 0px 1px 3px 1px rgba(0, 0, 0, 0.15);\n",
              "      filter: drop-shadow(0px 1px 2px rgba(0, 0, 0, 0.3));\n",
              "      fill: #FFFFFF;\n",
              "    }\n",
              "  </style>\n",
              "\n",
              "      <script>\n",
              "        const buttonEl =\n",
              "          document.querySelector('#df-9088ba8a-e2eb-4f8d-ba8a-99ae2978122a button.colab-df-convert');\n",
              "        buttonEl.style.display =\n",
              "          google.colab.kernel.accessAllowed ? 'block' : 'none';\n",
              "\n",
              "        async function convertToInteractive(key) {\n",
              "          const element = document.querySelector('#df-9088ba8a-e2eb-4f8d-ba8a-99ae2978122a');\n",
              "          const dataTable =\n",
              "            await google.colab.kernel.invokeFunction('convertToInteractive',\n",
              "                                                     [key], {});\n",
              "          if (!dataTable) return;\n",
              "\n",
              "          const docLinkHtml = 'Like what you see? Visit the ' +\n",
              "            '<a target=\"_blank\" href=https://colab.research.google.com/notebooks/data_table.ipynb>data table notebook</a>'\n",
              "            + ' to learn more about interactive tables.';\n",
              "          element.innerHTML = '';\n",
              "          dataTable['output_type'] = 'display_data';\n",
              "          await google.colab.output.renderOutput(dataTable, element);\n",
              "          const docLink = document.createElement('div');\n",
              "          docLink.innerHTML = docLinkHtml;\n",
              "          element.appendChild(docLink);\n",
              "        }\n",
              "      </script>\n",
              "    </div>\n",
              "  </div>\n",
              "  "
            ]
          },
          "metadata": {},
          "execution_count": 7
        }
      ]
    },
    {
      "cell_type": "markdown",
      "source": [
        "the dataset contains user ID, movie ID, and the rating scores if the user has seen the movie"
      ],
      "metadata": {
        "id": "nKxX8MuciHCi"
      }
    },
    {
      "cell_type": "code",
      "source": [
        "# remove the variable timestamp from the dataset\n",
        "dataset = dataset.drop(['timestamp'], axis=1)\n",
        "\n",
        "print(dataset.shape)"
      ],
      "metadata": {
        "colab": {
          "base_uri": "https://localhost:8080/"
        },
        "id": "UCm0-wHDh8sK",
        "outputId": "29c77422-23b2-456a-f21f-f7173b1715b5"
      },
      "execution_count": 9,
      "outputs": [
        {
          "output_type": "stream",
          "name": "stdout",
          "text": [
            "(100004, 3)\n"
          ]
        }
      ]
    },
    {
      "cell_type": "markdown",
      "source": [
        "the dataset has 100,004 rows. we also need to find how many unique users and unique movies"
      ],
      "metadata": {
        "id": "mBfX680dqRVQ"
      }
    },
    {
      "cell_type": "code",
      "source": [
        "dataset.info()"
      ],
      "metadata": {
        "colab": {
          "base_uri": "https://localhost:8080/"
        },
        "id": "wmmFGi6RqMTk",
        "outputId": "fa2a3273-6b20-40e1-90f7-69b882ebfbb8"
      },
      "execution_count": 10,
      "outputs": [
        {
          "output_type": "stream",
          "name": "stdout",
          "text": [
            "<class 'pandas.core.frame.DataFrame'>\n",
            "RangeIndex: 100004 entries, 0 to 100003\n",
            "Data columns (total 3 columns):\n",
            " #   Column   Non-Null Count   Dtype  \n",
            "---  ------   --------------   -----  \n",
            " 0   userId   100004 non-null  int64  \n",
            " 1   movieId  100004 non-null  int64  \n",
            " 2   rating   100004 non-null  float64\n",
            "dtypes: float64(1), int64(2)\n",
            "memory usage: 2.3 MB\n"
          ]
        }
      ]
    },
    {
      "cell_type": "code",
      "source": [
        "n_user = dataset['userId'].nunique()\n",
        "print(f'Number of users: {n_user}')\n",
        "n_movie = dataset['movieId'].nunique()\n",
        "print(f'Number of movies: {n_movie}')\n",
        "# so each user watches more than one movies, but the users do not watch all movies 671X9066 > 100004"
      ],
      "metadata": {
        "colab": {
          "base_uri": "https://localhost:8080/"
        },
        "id": "Mm71XGefqOjp",
        "outputId": "3571b11c-1480-4c0a-950e-a59bc70d7876"
      },
      "execution_count": 18,
      "outputs": [
        {
          "output_type": "stream",
          "name": "stdout",
          "text": [
            "Number of users: 671\n",
            "Number of movies: 9066\n"
          ]
        }
      ]
    },
    {
      "cell_type": "code",
      "source": [
        "# find each user's rating times\n",
        "\n",
        "dataset['userId'].value_counts()"
      ],
      "metadata": {
        "colab": {
          "base_uri": "https://localhost:8080/"
        },
        "id": "X9ZSXklfrvvz",
        "outputId": "575def5c-b8f3-445a-a062-867426c1943e"
      },
      "execution_count": 19,
      "outputs": [
        {
          "output_type": "execute_result",
          "data": {
            "text/plain": [
              "547    2391\n",
              "564    1868\n",
              "624    1735\n",
              "15     1700\n",
              "73     1610\n",
              "       ... \n",
              "296      20\n",
              "289      20\n",
              "249      20\n",
              "221      20\n",
              "1        20\n",
              "Name: userId, Length: 671, dtype: int64"
            ]
          },
          "metadata": {},
          "execution_count": 19
        }
      ]
    },
    {
      "cell_type": "code",
      "source": [
        "# create a histogram of all the interactions by all the users present in the dataset\n",
        "interactions = dataset.groupby('userId').count()['movieId']\n",
        "\n",
        "plt.hist(interactions, bins=30)\n",
        "plt.show()\n",
        "# the histogram shows most users just see some movies (less than 100)"
      ],
      "metadata": {
        "colab": {
          "base_uri": "https://localhost:8080/",
          "height": 265
        },
        "id": "HDUloAPTr-ba",
        "outputId": "f409da90-0e1c-4464-f7ed-1be6a1ca2853"
      },
      "execution_count": 21,
      "outputs": [
        {
          "output_type": "display_data",
          "data": {
            "text/plain": [
              "<Figure size 432x288 with 1 Axes>"
            ],
            "image/png": "[encoded data removed]"
          },
          "metadata": {
            "needs_background": "light"
          }
        }
      ]
    },
    {
      "cell_type": "markdown",
      "source": [
        "Creating user item interactions matrix"
      ],
      "metadata": {
        "id": "TI8QzuZasW4U"
      }
    },
    {
      "cell_type": "code",
      "source": [
        "# use users as rows and movies as columns, each intersection is the rating score\n",
        "interactions_matrix = dataset.pivot(index='userId', columns='movieId', values='rating')\n",
        "print(interactions_matrix.shape)"
      ],
      "metadata": {
        "colab": {
          "base_uri": "https://localhost:8080/"
        },
        "id": "GFeTKDvjsTki",
        "outputId": "6b566c33-9a4b-4c94-bfeb-900a3f1f626c"
      },
      "execution_count": 22,
      "outputs": [
        {
          "output_type": "stream",
          "name": "stdout",
          "text": [
            "(671, 9066)\n"
          ]
        }
      ]
    },
    {
      "cell_type": "code",
      "source": [
        "interactions_matrix.head()"
      ],
      "metadata": {
        "colab": {
          "base_uri": "https://localhost:8080/",
          "height": 267
        },
        "id": "fx-nTclwsqET",
        "outputId": "4e51da21-c59f-40f0-bfd2-e66651185f5c"
      },
      "execution_count": 23,
      "outputs": [
        {
          "output_type": "execute_result",
          "data": {
            "text/plain": [
              "movieId  1       2       3       4       5       6       7       8       \\\n",
              "userId                                                                    \n",
              "1           NaN     NaN     NaN     NaN     NaN     NaN     NaN     NaN   \n",
              "2           NaN     NaN     NaN     NaN     NaN     NaN     NaN     NaN   \n",
              "3           NaN     NaN     NaN     NaN     NaN     NaN     NaN     NaN   \n",
              "4           NaN     NaN     NaN     NaN     NaN     NaN     NaN     NaN   \n",
              "5           NaN     NaN     4.0     NaN     NaN     NaN     NaN     NaN   \n",
              "\n",
              "movieId  9       10      ...  161084  161155  161594  161830  161918  161944  \\\n",
              "userId                   ...                                                   \n",
              "1           NaN     NaN  ...     NaN     NaN     NaN     NaN     NaN     NaN   \n",
              "2           NaN     4.0  ...     NaN     NaN     NaN     NaN     NaN     NaN   \n",
              "3           NaN     NaN  ...     NaN     NaN     NaN     NaN     NaN     NaN   \n",
              "4           NaN     4.0  ...     NaN     NaN     NaN     NaN     NaN     NaN   \n",
              "5           NaN     NaN  ...     NaN     NaN     NaN     NaN     NaN     NaN   \n",
              "\n",
              "movieId  162376  162542  162672  163949  \n",
              "userId                                   \n",
              "1           NaN     NaN     NaN     NaN  \n",
              "2           NaN     NaN     NaN     NaN  \n",
              "3           NaN     NaN     NaN     NaN  \n",
              "4           NaN     NaN     NaN     NaN  \n",
              "5           NaN     NaN     NaN     NaN  \n",
              "\n",
              "[5 rows x 9066 columns]"
            ],
            "text/html": [
              "\n",
              "  <div id=\"df-cf2c926a-2b71-485f-898c-7a28c183d5d8\">\n",
              "    <div class=\"colab-df-container\">\n",
              "      <div>\n",
              "<style scoped>\n",
              "    .dataframe tbody tr th:only-of-type {\n",
              "        vertical-align: middle;\n",
              "    }\n",
              "\n",
              "    .dataframe tbody tr th {\n",
              "        vertical-align: top;\n",
              "    }\n",
              "\n",
              "    .dataframe thead th {\n",
              "        text-align: right;\n",
              "    }\n",
              "</style>\n",
              "<table border=\"1\" class=\"dataframe\">\n",
              "  <thead>\n",
              "    <tr style=\"text-align: right;\">\n",
              "      <th>movieId</th>\n",
              "      <th>1</th>\n",
              "      <th>2</th>\n",
              "      <th>3</th>\n",
              "      <th>4</th>\n",
              "      <th>5</th>\n",
              "      <th>6</th>\n",
              "      <th>7</th>\n",
              "      <th>8</th>\n",
              "      <th>9</th>\n",
              "      <th>10</th>\n",
              "      <th>...</th>\n",
              "      <th>161084</th>\n",
              "      <th>161155</th>\n",
              "      <th>161594</th>\n",
              "      <th>161830</th>\n",
              "      <th>161918</th>\n",
              "      <th>161944</th>\n",
              "      <th>162376</th>\n",
              "      <th>162542</th>\n",
              "      <th>162672</th>\n",
              "      <th>163949</th>\n",
              "    </tr>\n",
              "    <tr>\n",
              "      <th>userId</th>\n",
              "      <th></th>\n",
              "      <th></th>\n",
              "      <th></th>\n",
              "      <th></th>\n",
              "      <th></th>\n",
              "      <th></th>\n",
              "      <th></th>\n",
              "      <th></th>\n",
              "      <th></th>\n",
              "      <th></th>\n",
              "      <th></th>\n",
              "      <th></th>\n",
              "      <th></th>\n",
              "      <th></th>\n",
              "      <th></th>\n",
              "      <th></th>\n",
              "      <th></th>\n",
              "      <th></th>\n",
              "      <th></th>\n",
              "      <th></th>\n",
              "      <th></th>\n",
              "    </tr>\n",
              "  </thead>\n",
              "  <tbody>\n",
              "    <tr>\n",
              "      <th>1</th>\n",
              "      <td>NaN</td>\n",
              "      <td>NaN</td>\n",
              "      <td>NaN</td>\n",
              "      <td>NaN</td>\n",
              "      <td>NaN</td>\n",
              "      <td>NaN</td>\n",
              "      <td>NaN</td>\n",
              "      <td>NaN</td>\n",
              "      <td>NaN</td>\n",
              "      <td>NaN</td>\n",
              "      <td>...</td>\n",
              "      <td>NaN</td>\n",
              "      <td>NaN</td>\n",
              "      <td>NaN</td>\n",
              "      <td>NaN</td>\n",
              "      <td>NaN</td>\n",
              "      <td>NaN</td>\n",
              "      <td>NaN</td>\n",
              "      <td>NaN</td>\n",
              "      <td>NaN</td>\n",
              "      <td>NaN</td>\n",
              "    </tr>\n",
              "    <tr>\n",
              "      <th>2</th>\n",
              "      <td>NaN</td>\n",
              "      <td>NaN</td>\n",
              "      <td>NaN</td>\n",
              "      <td>NaN</td>\n",
              "      <td>NaN</td>\n",
              "      <td>NaN</td>\n",
              "      <td>NaN</td>\n",
              "      <td>NaN</td>\n",
              "      <td>NaN</td>\n",
              "      <td>4.0</td>\n",
              "      <td>...</td>\n",
              "      <td>NaN</td>\n",
              "      <td>NaN</td>\n",
              "      <td>NaN</td>\n",
              "      <td>NaN</td>\n",
              "      <td>NaN</td>\n",
              "      <td>NaN</td>\n",
              "      <td>NaN</td>\n",
              "      <td>NaN</td>\n",
              "      <td>NaN</td>\n",
              "      <td>NaN</td>\n",
              "    </tr>\n",
              "    <tr>\n",
              "      <th>3</th>\n",
              "      <td>NaN</td>\n",
              "      <td>NaN</td>\n",
              "      <td>NaN</td>\n",
              "      <td>NaN</td>\n",
              "      <td>NaN</td>\n",
              "      <td>NaN</td>\n",
              "      <td>NaN</td>\n",
              "      <td>NaN</td>\n",
              "      <td>NaN</td>\n",
              "      <td>NaN</td>\n",
              "      <td>...</td>\n",
              "      <td>NaN</td>\n",
              "      <td>NaN</td>\n",
              "      <td>NaN</td>\n",
              "      <td>NaN</td>\n",
              "      <td>NaN</td>\n",
              "      <td>NaN</td>\n",
              "      <td>NaN</td>\n",
              "      <td>NaN</td>\n",
              "      <td>NaN</td>\n",
              "      <td>NaN</td>\n",
              "    </tr>\n",
              "    <tr>\n",
              "      <th>4</th>\n",
              "      <td>NaN</td>\n",
              "      <td>NaN</td>\n",
              "      <td>NaN</td>\n",
              "      <td>NaN</td>\n",
              "      <td>NaN</td>\n",
              "      <td>NaN</td>\n",
              "      <td>NaN</td>\n",
              "      <td>NaN</td>\n",
              "      <td>NaN</td>\n",
              "      <td>4.0</td>\n",
              "      <td>...</td>\n",
              "      <td>NaN</td>\n",
              "      <td>NaN</td>\n",
              "      <td>NaN</td>\n",
              "      <td>NaN</td>\n",
              "      <td>NaN</td>\n",
              "      <td>NaN</td>\n",
              "      <td>NaN</td>\n",
              "      <td>NaN</td>\n",
              "      <td>NaN</td>\n",
              "      <td>NaN</td>\n",
              "    </tr>\n",
              "    <tr>\n",
              "      <th>5</th>\n",
              "      <td>NaN</td>\n",
              "      <td>NaN</td>\n",
              "      <td>4.0</td>\n",
              "      <td>NaN</td>\n",
              "      <td>NaN</td>\n",
              "      <td>NaN</td>\n",
              "      <td>NaN</td>\n",
              "      <td>NaN</td>\n",
              "      <td>NaN</td>\n",
              "      <td>NaN</td>\n",
              "      <td>...</td>\n",
              "      <td>NaN</td>\n",
              "      <td>NaN</td>\n",
              "      <td>NaN</td>\n",
              "      <td>NaN</td>\n",
              "      <td>NaN</td>\n",
              "      <td>NaN</td>\n",
              "      <td>NaN</td>\n",
              "      <td>NaN</td>\n",
              "      <td>NaN</td>\n",
              "      <td>NaN</td>\n",
              "    </tr>\n",
              "  </tbody>\n",
              "</table>\n",
              "<p>5 rows × 9066 columns</p>\n",
              "</div>\n",
              "      <button class=\"colab-df-convert\" onclick=\"convertToInteractive('df-cf2c926a-2b71-485f-898c-7a28c183d5d8')\"\n",
              "              title=\"Convert this dataframe to an interactive table.\"\n",
              "              style=\"display:none;\">\n",
              "        \n",
              "  <svg xmlns=\"http://www.w3.org/2000/svg\" height=\"24px\"viewBox=\"0 0 24 24\"\n",
              "       width=\"24px\">\n",
              "    <path d=\"M0 0h24v24H0V0z\" fill=\"none\"/>\n",
              "    <path d=\"M18.56 5.44l.94 2.06.94-2.06 2.06-.94-2.06-.94-.94-2.06-.94 2.06-2.06.94zm-11 1L8.5 8.5l.94-2.06 2.06-.94-2.06-.94L8.5 2.5l-.94 2.06-2.06.94zm10 10l.94 2.06.94-2.06 2.06-.94-2.06-.94-.94-2.06-.94 2.06-2.06.94z\"/><path d=\"M17.41 7.96l-1.37-1.37c-.4-.4-.92-.59-1.43-.59-.52 0-1.04.2-1.43.59L10.3 9.45l-7.72 7.72c-.78.78-.78 2.05 0 2.83L4 21.41c.39.39.9.59 1.41.59.51 0 1.02-.2 1.41-.59l7.78-7.78 2.81-2.81c.8-.78.8-2.07 0-2.86zM5.41 20L4 18.59l7.72-7.72 1.47 1.35L5.41 20z\"/>\n",
              "  </svg>\n",
              "      </button>\n",
              "      \n",
              "  <style>\n",
              "    .colab-df-container {\n",
              "      display:flex;\n",
              "      flex-wrap:wrap;\n",
              "      gap: 12px;\n",
              "    }\n",
              "\n",
              "    .colab-df-convert {\n",
              "      background-color: #E8F0FE;\n",
              "      border: none;\n",
              "      border-radius: 50%;\n",
              "      cursor: pointer;\n",
              "      display: none;\n",
              "      fill: #1967D2;\n",
              "      height: 32px;\n",
              "      padding: 0 0 0 0;\n",
              "      width: 32px;\n",
              "    }\n",
              "\n",
              "    .colab-df-convert:hover {\n",
              "      background-color: #E2EBFA;\n",
              "      box-shadow: 0px 1px 2px rgba(60, 64, 67, 0.3), 0px 1px 3px 1px rgba(60, 64, 67, 0.15);\n",
              "      fill: #174EA6;\n",
              "    }\n",
              "\n",
              "    [theme=dark] .colab-df-convert {\n",
              "      background-color: #3B4455;\n",
              "      fill: #D2E3FC;\n",
              "    }\n",
              "\n",
              "    [theme=dark] .colab-df-convert:hover {\n",
              "      background-color: #434B5C;\n",
              "      box-shadow: 0px 1px 3px 1px rgba(0, 0, 0, 0.15);\n",
              "      filter: drop-shadow(0px 1px 2px rgba(0, 0, 0, 0.3));\n",
              "      fill: #FFFFFF;\n",
              "    }\n",
              "  </style>\n",
              "\n",
              "      <script>\n",
              "        const buttonEl =\n",
              "          document.querySelector('#df-cf2c926a-2b71-485f-898c-7a28c183d5d8 button.colab-df-convert');\n",
              "        buttonEl.style.display =\n",
              "          google.colab.kernel.accessAllowed ? 'block' : 'none';\n",
              "\n",
              "        async function convertToInteractive(key) {\n",
              "          const element = document.querySelector('#df-cf2c926a-2b71-485f-898c-7a28c183d5d8');\n",
              "          const dataTable =\n",
              "            await google.colab.kernel.invokeFunction('convertToInteractive',\n",
              "                                                     [key], {});\n",
              "          if (!dataTable) return;\n",
              "\n",
              "          const docLinkHtml = 'Like what you see? Visit the ' +\n",
              "            '<a target=\"_blank\" href=https://colab.research.google.com/notebooks/data_table.ipynb>data table notebook</a>'\n",
              "            + ' to learn more about interactive tables.';\n",
              "          element.innerHTML = '';\n",
              "          dataTable['output_type'] = 'display_data';\n",
              "          await google.colab.output.renderOutput(dataTable, element);\n",
              "          const docLink = document.createElement('div');\n",
              "          docLink.innerHTML = docLinkHtml;\n",
              "          element.appendChild(docLink);\n",
              "        }\n",
              "      </script>\n",
              "    </div>\n",
              "  </div>\n",
              "  "
            ]
          },
          "metadata": {},
          "execution_count": 23
        }
      ]
    },
    {
      "cell_type": "markdown",
      "source": [
        "It seems most movies are not seen by users, so the rating value is NaN <p>\n",
        "we need to fill the missing value with 0, it means the user has not seen the movie, and we can use the similarity method to predict the rating score"
      ],
      "metadata": {
        "id": "jiGDmb67st9E"
      }
    },
    {
      "cell_type": "code",
      "source": [
        "interactions_matrix = interactions_matrix.fillna(0)\n",
        "interactions_matrix.head()"
      ],
      "metadata": {
        "colab": {
          "base_uri": "https://localhost:8080/",
          "height": 267
        },
        "id": "U8wUNFHAt7Oc",
        "outputId": "1b7ccc2c-ff61-4e5b-e166-7f710965c553"
      },
      "execution_count": 24,
      "outputs": [
        {
          "output_type": "execute_result",
          "data": {
            "text/plain": [
              "movieId  1       2       3       4       5       6       7       8       \\\n",
              "userId                                                                    \n",
              "1           0.0     0.0     0.0     0.0     0.0     0.0     0.0     0.0   \n",
              "2           0.0     0.0     0.0     0.0     0.0     0.0     0.0     0.0   \n",
              "3           0.0     0.0     0.0     0.0     0.0     0.0     0.0     0.0   \n",
              "4           0.0     0.0     0.0     0.0     0.0     0.0     0.0     0.0   \n",
              "5           0.0     0.0     4.0     0.0     0.0     0.0     0.0     0.0   \n",
              "\n",
              "movieId  9       10      ...  161084  161155  161594  161830  161918  161944  \\\n",
              "userId                   ...                                                   \n",
              "1           0.0     0.0  ...     0.0     0.0     0.0     0.0     0.0     0.0   \n",
              "2           0.0     4.0  ...     0.0     0.0     0.0     0.0     0.0     0.0   \n",
              "3           0.0     0.0  ...     0.0     0.0     0.0     0.0     0.0     0.0   \n",
              "4           0.0     4.0  ...     0.0     0.0     0.0     0.0     0.0     0.0   \n",
              "5           0.0     0.0  ...     0.0     0.0     0.0     0.0     0.0     0.0   \n",
              "\n",
              "movieId  162376  162542  162672  163949  \n",
              "userId                                   \n",
              "1           0.0     0.0     0.0     0.0  \n",
              "2           0.0     0.0     0.0     0.0  \n",
              "3           0.0     0.0     0.0     0.0  \n",
              "4           0.0     0.0     0.0     0.0  \n",
              "5           0.0     0.0     0.0     0.0  \n",
              "\n",
              "[5 rows x 9066 columns]"
            ],
            "text/html": [
              "\n",
              "  <div id=\"df-9d0aa577-62b7-4fba-9cd4-3eee1825cd6f\">\n",
              "    <div class=\"colab-df-container\">\n",
              "      <div>\n",
              "<style scoped>\n",
              "    .dataframe tbody tr th:only-of-type {\n",
              "        vertical-align: middle;\n",
              "    }\n",
              "\n",
              "    .dataframe tbody tr th {\n",
              "        vertical-align: top;\n",
              "    }\n",
              "\n",
              "    .dataframe thead th {\n",
              "        text-align: right;\n",
              "    }\n",
              "</style>\n",
              "<table border=\"1\" class=\"dataframe\">\n",
              "  <thead>\n",
              "    <tr style=\"text-align: right;\">\n",
              "      <th>movieId</th>\n",
              "      <th>1</th>\n",
              "      <th>2</th>\n",
              "      <th>3</th>\n",
              "      <th>4</th>\n",
              "      <th>5</th>\n",
              "      <th>6</th>\n",
              "      <th>7</th>\n",
              "      <th>8</th>\n",
              "      <th>9</th>\n",
              "      <th>10</th>\n",
              "      <th>...</th>\n",
              "      <th>161084</th>\n",
              "      <th>161155</th>\n",
              "      <th>161594</th>\n",
              "      <th>161830</th>\n",
              "      <th>161918</th>\n",
              "      <th>161944</th>\n",
              "      <th>162376</th>\n",
              "      <th>162542</th>\n",
              "      <th>162672</th>\n",
              "      <th>163949</th>\n",
              "    </tr>\n",
              "    <tr>\n",
              "      <th>userId</th>\n",
              "      <th></th>\n",
              "      <th></th>\n",
              "      <th></th>\n",
              "      <th></th>\n",
              "      <th></th>\n",
              "      <th></th>\n",
              "      <th></th>\n",
              "      <th></th>\n",
              "      <th></th>\n",
              "      <th></th>\n",
              "      <th></th>\n",
              "      <th></th>\n",
              "      <th></th>\n",
              "      <th></th>\n",
              "      <th></th>\n",
              "      <th></th>\n",
              "      <th></th>\n",
              "      <th></th>\n",
              "      <th></th>\n",
              "      <th></th>\n",
              "      <th></th>\n",
              "    </tr>\n",
              "  </thead>\n",
              "  <tbody>\n",
              "    <tr>\n",
              "      <th>1</th>\n",
              "      <td>0.0</td>\n",
              "      <td>0.0</td>\n",
              "      <td>0.0</td>\n",
              "      <td>0.0</td>\n",
              "      <td>0.0</td>\n",
              "      <td>0.0</td>\n",
              "      <td>0.0</td>\n",
              "      <td>0.0</td>\n",
              "      <td>0.0</td>\n",
              "      <td>0.0</td>\n",
              "      <td>...</td>\n",
              "      <td>0.0</td>\n",
              "      <td>0.0</td>\n",
              "      <td>0.0</td>\n",
              "      <td>0.0</td>\n",
              "      <td>0.0</td>\n",
              "      <td>0.0</td>\n",
              "      <td>0.0</td>\n",
              "      <td>0.0</td>\n",
              "      <td>0.0</td>\n",
              "      <td>0.0</td>\n",
              "    </tr>\n",
              "    <tr>\n",
              "      <th>2</th>\n",
              "      <td>0.0</td>\n",
              "      <td>0.0</td>\n",
              "      <td>0.0</td>\n",
              "      <td>0.0</td>\n",
              "      <td>0.0</td>\n",
              "      <td>0.0</td>\n",
              "      <td>0.0</td>\n",
              "      <td>0.0</td>\n",
              "      <td>0.0</td>\n",
              "      <td>4.0</td>\n",
              "      <td>...</td>\n",
              "      <td>0.0</td>\n",
              "      <td>0.0</td>\n",
              "      <td>0.0</td>\n",
              "      <td>0.0</td>\n",
              "      <td>0.0</td>\n",
              "      <td>0.0</td>\n",
              "      <td>0.0</td>\n",
              "      <td>0.0</td>\n",
              "      <td>0.0</td>\n",
              "      <td>0.0</td>\n",
              "    </tr>\n",
              "    <tr>\n",
              "      <th>3</th>\n",
              "      <td>0.0</td>\n",
              "      <td>0.0</td>\n",
              "      <td>0.0</td>\n",
              "      <td>0.0</td>\n",
              "      <td>0.0</td>\n",
              "      <td>0.0</td>\n",
              "      <td>0.0</td>\n",
              "      <td>0.0</td>\n",
              "      <td>0.0</td>\n",
              "      <td>0.0</td>\n",
              "      <td>...</td>\n",
              "      <td>0.0</td>\n",
              "      <td>0.0</td>\n",
              "      <td>0.0</td>\n",
              "      <td>0.0</td>\n",
              "      <td>0.0</td>\n",
              "      <td>0.0</td>\n",
              "      <td>0.0</td>\n",
              "      <td>0.0</td>\n",
              "      <td>0.0</td>\n",
              "      <td>0.0</td>\n",
              "    </tr>\n",
              "    <tr>\n",
              "      <th>4</th>\n",
              "      <td>0.0</td>\n",
              "      <td>0.0</td>\n",
              "      <td>0.0</td>\n",
              "      <td>0.0</td>\n",
              "      <td>0.0</td>\n",
              "      <td>0.0</td>\n",
              "      <td>0.0</td>\n",
              "      <td>0.0</td>\n",
              "      <td>0.0</td>\n",
              "      <td>4.0</td>\n",
              "      <td>...</td>\n",
              "      <td>0.0</td>\n",
              "      <td>0.0</td>\n",
              "      <td>0.0</td>\n",
              "      <td>0.0</td>\n",
              "      <td>0.0</td>\n",
              "      <td>0.0</td>\n",
              "      <td>0.0</td>\n",
              "      <td>0.0</td>\n",
              "      <td>0.0</td>\n",
              "      <td>0.0</td>\n",
              "    </tr>\n",
              "    <tr>\n",
              "      <th>5</th>\n",
              "      <td>0.0</td>\n",
              "      <td>0.0</td>\n",
              "      <td>4.0</td>\n",
              "      <td>0.0</td>\n",
              "      <td>0.0</td>\n",
              "      <td>0.0</td>\n",
              "      <td>0.0</td>\n",
              "      <td>0.0</td>\n",
              "      <td>0.0</td>\n",
              "      <td>0.0</td>\n",
              "      <td>...</td>\n",
              "      <td>0.0</td>\n",
              "      <td>0.0</td>\n",
              "      <td>0.0</td>\n",
              "      <td>0.0</td>\n",
              "      <td>0.0</td>\n",
              "      <td>0.0</td>\n",
              "      <td>0.0</td>\n",
              "      <td>0.0</td>\n",
              "      <td>0.0</td>\n",
              "      <td>0.0</td>\n",
              "    </tr>\n",
              "  </tbody>\n",
              "</table>\n",
              "<p>5 rows × 9066 columns</p>\n",
              "</div>\n",
              "      <button class=\"colab-df-convert\" onclick=\"convertToInteractive('df-9d0aa577-62b7-4fba-9cd4-3eee1825cd6f')\"\n",
              "              title=\"Convert this dataframe to an interactive table.\"\n",
              "              style=\"display:none;\">\n",
              "        \n",
              "  <svg xmlns=\"http://www.w3.org/2000/svg\" height=\"24px\"viewBox=\"0 0 24 24\"\n",
              "       width=\"24px\">\n",
              "    <path d=\"M0 0h24v24H0V0z\" fill=\"none\"/>\n",
              "    <path d=\"M18.56 5.44l.94 2.06.94-2.06 2.06-.94-2.06-.94-.94-2.06-.94 2.06-2.06.94zm-11 1L8.5 8.5l.94-2.06 2.06-.94-2.06-.94L8.5 2.5l-.94 2.06-2.06.94zm10 10l.94 2.06.94-2.06 2.06-.94-2.06-.94-.94-2.06-.94 2.06-2.06.94z\"/><path d=\"M17.41 7.96l-1.37-1.37c-.4-.4-.92-.59-1.43-.59-.52 0-1.04.2-1.43.59L10.3 9.45l-7.72 7.72c-.78.78-.78 2.05 0 2.83L4 21.41c.39.39.9.59 1.41.59.51 0 1.02-.2 1.41-.59l7.78-7.78 2.81-2.81c.8-.78.8-2.07 0-2.86zM5.41 20L4 18.59l7.72-7.72 1.47 1.35L5.41 20z\"/>\n",
              "  </svg>\n",
              "      </button>\n",
              "      \n",
              "  <style>\n",
              "    .colab-df-container {\n",
              "      display:flex;\n",
              "      flex-wrap:wrap;\n",
              "      gap: 12px;\n",
              "    }\n",
              "\n",
              "    .colab-df-convert {\n",
              "      background-color: #E8F0FE;\n",
              "      border: none;\n",
              "      border-radius: 50%;\n",
              "      cursor: pointer;\n",
              "      display: none;\n",
              "      fill: #1967D2;\n",
              "      height: 32px;\n",
              "      padding: 0 0 0 0;\n",
              "      width: 32px;\n",
              "    }\n",
              "\n",
              "    .colab-df-convert:hover {\n",
              "      background-color: #E2EBFA;\n",
              "      box-shadow: 0px 1px 2px rgba(60, 64, 67, 0.3), 0px 1px 3px 1px rgba(60, 64, 67, 0.15);\n",
              "      fill: #174EA6;\n",
              "    }\n",
              "\n",
              "    [theme=dark] .colab-df-convert {\n",
              "      background-color: #3B4455;\n",
              "      fill: #D2E3FC;\n",
              "    }\n",
              "\n",
              "    [theme=dark] .colab-df-convert:hover {\n",
              "      background-color: #434B5C;\n",
              "      box-shadow: 0px 1px 3px 1px rgba(0, 0, 0, 0.15);\n",
              "      filter: drop-shadow(0px 1px 2px rgba(0, 0, 0, 0.3));\n",
              "      fill: #FFFFFF;\n",
              "    }\n",
              "  </style>\n",
              "\n",
              "      <script>\n",
              "        const buttonEl =\n",
              "          document.querySelector('#df-9d0aa577-62b7-4fba-9cd4-3eee1825cd6f button.colab-df-convert');\n",
              "        buttonEl.style.display =\n",
              "          google.colab.kernel.accessAllowed ? 'block' : 'none';\n",
              "\n",
              "        async function convertToInteractive(key) {\n",
              "          const element = document.querySelector('#df-9d0aa577-62b7-4fba-9cd4-3eee1825cd6f');\n",
              "          const dataTable =\n",
              "            await google.colab.kernel.invokeFunction('convertToInteractive',\n",
              "                                                     [key], {});\n",
              "          if (!dataTable) return;\n",
              "\n",
              "          const docLinkHtml = 'Like what you see? Visit the ' +\n",
              "            '<a target=\"_blank\" href=https://colab.research.google.com/notebooks/data_table.ipynb>data table notebook</a>'\n",
              "            + ' to learn more about interactive tables.';\n",
              "          element.innerHTML = '';\n",
              "          dataTable['output_type'] = 'display_data';\n",
              "          await google.colab.output.renderOutput(dataTable, element);\n",
              "          const docLink = document.createElement('div');\n",
              "          docLink.innerHTML = docLinkHtml;\n",
              "          element.appendChild(docLink);\n",
              "        }\n",
              "      </script>\n",
              "    </div>\n",
              "  </div>\n",
              "  "
            ]
          },
          "metadata": {},
          "execution_count": 24
        }
      ]
    },
    {
      "cell_type": "markdown",
      "source": [
        "Our task is to predict the missing rating scores based on the similarity of users"
      ],
      "metadata": {
        "id": "PfVYal6hu8w4"
      }
    },
    {
      "cell_type": "markdown",
      "source": [
        "![collaborative_filtering.PNG](data:image/png;base64,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)"
      ],
      "metadata": {
        "id": "RuU5Wl83uzw5"
      }
    },
    {
      "cell_type": "code",
      "source": [
        "# import cosine_similarity from sklearn\n",
        "from sklearn.metrics.pairwise import cosine_similarity\n",
        "\n",
        "# function to measure user similarity based on the interaction matrix\n",
        "# input - user id of the user to predict his/her missing ratings,\n",
        "#         the interaction matrix \n",
        "# output - a tuple of the similar users and consine similarity score\n",
        "def similar_users(user_id, interactions_matrix):\n",
        "    \n",
        "    # compute similarity of each user to the provided user\n",
        "    similarity = []\n",
        "    for user in range(1, interactions_matrix.shape[0]+1):\n",
        "      # get all the similarity scores\n",
        "      sim = cosine_similarity([interactions_matrix.loc[user_id]], [interactions_matrix.loc[user]])\n",
        "      similarity.append((user,sim))\n",
        "    \n",
        "    # sort by similarity - higher on top\n",
        "    similarity.sort(key=lambda x: x[1], reverse=True)\n",
        "    \n",
        "    # create list of just the user ids\n",
        "    most_similar_users = [tup[0] for tup in similarity]\n",
        "    \n",
        "    # create list of similarity score\n",
        "    similarity_score = [tup[1] for tup in similarity]\n",
        "    \n",
        "    # remove the user's own id\n",
        "    most_similar_users.remove(user_id)\n",
        "    \n",
        "    # remove the user's own similarity score\n",
        "    similarity_score.remove(similarity_score[0])\n",
        "       \n",
        "    return most_similar_users, similarity_score"
      ],
      "metadata": {
        "id": "iQCw_Vv3uAj9"
      },
      "execution_count": 25,
      "outputs": []
    },
    {
      "cell_type": "code",
      "source": [
        "# find the top five similar users of user Id 565\n",
        "top_5_users = similar_users(564, interactions_matrix)[0][:5]\n",
        "for user in top_5_users:\n",
        "  print(f'User ID: {user}')"
      ],
      "metadata": {
        "colab": {
          "base_uri": "https://localhost:8080/"
        },
        "id": "VUjEEnoAwPqN",
        "outputId": "cd591cf2-704f-4186-a004-018101412b52"
      },
      "execution_count": 36,
      "outputs": [
        {
          "output_type": "stream",
          "name": "stdout",
          "text": [
            "User ID: 306\n",
            "User ID: 102\n",
            "User ID: 518\n",
            "User ID: 232\n",
            "User ID: 119\n"
          ]
        }
      ]
    },
    {
      "cell_type": "code",
      "source": [
        "top_5_sim_score = similar_users(564, interactions_matrix)[1][:5]\n",
        "for score in top_5_sim_score:\n",
        "  print(f'consine similarity: {score.item()}')"
      ],
      "metadata": {
        "colab": {
          "base_uri": "https://localhost:8080/"
        },
        "id": "S2Zw_h0pwcIX",
        "outputId": "1546ab71-749a-41b1-d97e-b59c95621319"
      },
      "execution_count": 37,
      "outputs": [
        {
          "output_type": "stream",
          "name": "stdout",
          "text": [
            "consine similarity: 0.4752070970942402\n",
            "consine similarity: 0.4594583709477716\n",
            "consine similarity: 0.4580657743022111\n",
            "consine similarity: 0.4264881863826795\n",
            "consine similarity: 0.4218847385800824\n"
          ]
        }
      ]
    },
    {
      "cell_type": "markdown",
      "source": [
        "The collabrative filtering function"
      ],
      "metadata": {
        "id": "JDYl_Yjtx3S0"
      }
    },
    {
      "cell_type": "code",
      "source": [
        "def recommendations(user_id, num_of_movies, user_item_interactions, dataset, new_user=False):\n",
        "  # create an empty list to store the recommended movies\n",
        "  recommendations = []\n",
        "  if new_user:\n",
        "    recommendations = dataset['movieId'].value_counts()[:num_of_movies]\n",
        "    return recommendations\n",
        "  else: \n",
        "    # find the most similar users to the input user\n",
        "    most_similar_users = similar_users(user_id, user_item_interactions)[0]\n",
        "    \n",
        "    # find out those movies which this user has already seen\n",
        "    movie_ids = set(list(interactions_matrix.columns[np.where(interactions_matrix.loc[user_id] > 0)]))\n",
        "    \n",
        "    # copy those movies which are already seen by the input user - we don't recommend old items\n",
        "    already_interacted = movie_ids.copy()\n",
        "    \n",
        "    # go through each similar user from the list of most_similar_users\n",
        "    for similar_user in most_similar_users:   \n",
        "        # find new recommended movie id until it reaches the required recommend numbers\n",
        "        if len(recommendations) < num_of_movies:    \n",
        "            \n",
        "            # get all movie Ids of the similar users\n",
        "            similar_user_movie_ids = set(list(interactions_matrix.columns[np.where(interactions_matrix.loc[similar_user]> 0)]))\n",
        "            # add the recommended movie Ids and remove the already seen items\n",
        "            recommendations.extend(list(similar_user_movie_ids.difference(already_interacted)))\n",
        "            # Add all already seen items into the already_interacted which we already added in recommendations\n",
        "            already_interacted = already_interacted.union(similar_user_movie_ids)\n",
        "            \n",
        "        else:\n",
        "            break\n",
        "    \n",
        "    return recommendations[:num_of_movies]"
      ],
      "metadata": {
        "id": "VRF9O-r0x56H"
      },
      "execution_count": 48,
      "outputs": []
    },
    {
      "cell_type": "code",
      "source": [
        "# find five recommended movies for user ID 564\n",
        "\n",
        "recommended_movie_Id = recommendations(564, 5, interactions_matrix, dataset)\n",
        "for movie_id in recommended_movie_Id:\n",
        "  print(f'recommended movie ID: {movie_id}')"
      ],
      "metadata": {
        "colab": {
          "base_uri": "https://localhost:8080/"
        },
        "id": "WPN5_DEqzR4N",
        "outputId": "ade9b8ff-2a0e-4a3a-a00d-c207200e6a9e"
      },
      "execution_count": 49,
      "outputs": [
        {
          "output_type": "stream",
          "name": "stdout",
          "text": [
            "recommended movie ID: 1537\n",
            "recommended movie ID: 515\n",
            "recommended movie ID: 1027\n",
            "recommended movie ID: 2565\n",
            "recommended movie ID: 524\n"
          ]
        }
      ]
    },
    {
      "cell_type": "code",
      "source": [
        "# recommend to the new user\n",
        "\n",
        "recommended_movie_Id = recommendations(564, 5, interactions_matrix, dataset, new_user=True)\n",
        "for movie_id in recommended_movie_Id:\n",
        "  print(f'recommended movie ID: {movie_id}')"
      ],
      "metadata": {
        "colab": {
          "base_uri": "https://localhost:8080/"
        },
        "id": "s5YoTomh0em9",
        "outputId": "eced1c70-f13d-4ef9-b760-aaaa866f3015"
      },
      "execution_count": 52,
      "outputs": [
        {
          "output_type": "stream",
          "name": "stdout",
          "text": [
            "recommended movie ID: 341\n",
            "recommended movie ID: 324\n",
            "recommended movie ID: 311\n",
            "recommended movie ID: 304\n",
            "recommended movie ID: 291\n"
          ]
        }
      ]
    }
  ]
}