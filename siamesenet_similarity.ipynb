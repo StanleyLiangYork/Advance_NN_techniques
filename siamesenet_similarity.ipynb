{
  "nbformat": 4,
  "nbformat_minor": 0,
  "metadata": {
    "colab": {
      "provenance": [],
      "gpuType": "T4",
      "authorship_tag": "ABX9TyMvGCJZl1KLrWWMcN0nua3R",
      "include_colab_link": true
    },
    "kernelspec": {
      "name": "python3",
      "display_name": "Python 3"
    },
    "language_info": {
      "name": "python"
    },
    "accelerator": "GPU"
  },
  "cells": [
    {
      "cell_type": "markdown",
      "metadata": {
        "id": "view-in-github",
        "colab_type": "text"
      },
      "source": [
        "<a href=\"https://colab.research.google.com/github/StanleyLiangYork/Advance_NN_techniques/blob/main/siamesenet_similarity.ipynb\" target=\"_parent\"><img src=\"https://colab.research.google.com/assets/colab-badge.svg\" alt=\"Open In Colab\"/></a>"
      ]
    },
    {
      "cell_type": "code",
      "execution_count": 20,
      "metadata": {
        "id": "FfaaRt-Xogj3"
      },
      "outputs": [],
      "source": [
        "import tensorflow as tf\n",
        "import matplotlib.pyplot as plt\n",
        "import numpy as np\n",
        "import random"
      ]
    },
    {
      "cell_type": "code",
      "source": [
        "tf.__version__"
      ],
      "metadata": {
        "colab": {
          "base_uri": "https://localhost:8080/",
          "height": 35
        },
        "id": "3LenW-54o1Sk",
        "outputId": "c61a4f84-6f36-40d1-bffa-f7cc23bcb1b8"
      },
      "execution_count": 3,
      "outputs": [
        {
          "output_type": "execute_result",
          "data": {
            "text/plain": [
              "'2.12.0'"
            ],
            "application/vnd.google.colaboratory.intrinsic+json": {
              "type": "string"
            }
          },
          "metadata": {},
          "execution_count": 3
        }
      ]
    },
    {
      "cell_type": "code",
      "source": [
        "(x_train, y_train), (x_test, y_test) = tf.keras.datasets.mnist.load_data()\n",
        "print(x_train.shape)"
      ],
      "metadata": {
        "colab": {
          "base_uri": "https://localhost:8080/"
        },
        "id": "C08M18SopBIl",
        "outputId": "68390516-6b13-4bef-bccf-55fec57808d3"
      },
      "execution_count": 11,
      "outputs": [
        {
          "output_type": "stream",
          "name": "stdout",
          "text": [
            "(60000, 28, 28)\n"
          ]
        }
      ]
    },
    {
      "cell_type": "code",
      "source": [
        "x_train = np.reshape(x_train, (60000,784))"
      ],
      "metadata": {
        "id": "Yw-Jf2eBrSZA"
      },
      "execution_count": 12,
      "outputs": []
    },
    {
      "cell_type": "code",
      "source": [
        "x_test = np.reshape(x_test,(10000,784))\n",
        "# scale*inputs+offset\n",
        "# tf.keras.layers.Rescaling(scale=1/255.0, offset=0.0) --(0, 255)\n",
        "# tf.keras.layers.Rescaling(scale=1/127.5, offset=-1.0) -- (-1,1)"
      ],
      "metadata": {
        "id": "OSpPeRs8rh2T"
      },
      "execution_count": 13,
      "outputs": []
    },
    {
      "cell_type": "code",
      "source": [
        "def plot_triplet(triplet):\n",
        "  plt.figure(figsize=(6,2))\n",
        "  for i in range(0,3):\n",
        "    plt.subplot(1,3, i+1)\n",
        "    plt.imshow(np.reshape(triplet[i],(28,28)), cmap='binary')\n",
        "    plt.xticks([])\n",
        "    plt.yticks([])\n",
        "  plt.show()"
      ],
      "metadata": {
        "id": "lwSVfL0FsVL3"
      },
      "execution_count": 17,
      "outputs": []
    },
    {
      "cell_type": "code",
      "source": [
        "plot_triplet([x_train[0], x_train[1], x_train[2]])"
      ],
      "metadata": {
        "colab": {
          "base_uri": "https://localhost:8080/",
          "height": 173
        },
        "id": "X6NCC3AYsVfl",
        "outputId": "9bc6ffe9-fca4-431e-8331-cfd2e238aa9c"
      },
      "execution_count": 18,
      "outputs": [
        {
          "output_type": "display_data",
          "data": {
            "text/plain": [
              "<Figure size 600x200 with 3 Axes>"
            ],
            "image/png": "[encoded data removed]"
          },
          "metadata": {}
        }
      ]
    },
    {
      "cell_type": "code",
      "source": [
        "from sklearn.decomposition import PCA\n",
        "\n",
        "class PCAPlotter(tf.keras.callbacks.Callback):\n",
        "    \n",
        "    def __init__(self, plt, embedding_model, x_test, y_test):\n",
        "        super(PCAPlotter, self).__init__()\n",
        "        self.embedding_model = embedding_model\n",
        "        self.x_test = x_test\n",
        "        self.y_test = y_test\n",
        "        self.fig = plt.figure(figsize=(9, 4))\n",
        "        self.ax1 = plt.subplot(1, 2, 1)\n",
        "        self.ax2 = plt.subplot(1, 2, 2)\n",
        "        plt.ion()\n",
        "        \n",
        "        self.losses = []\n",
        "    \n",
        "    def plot(self, epoch=None, plot_loss=False):\n",
        "        x_test_embeddings = self.embedding_model.predict(self.x_test)\n",
        "        pca_out = PCA(n_components=2).fit_transform(x_test_embeddings)\n",
        "        self.ax1.clear()\n",
        "        self.ax1.scatter(pca_out[:, 0], pca_out[:, 1], c=self.y_test, cmap='seismic')\n",
        "        if plot_loss:\n",
        "            self.ax2.clear()\n",
        "            self.ax2.plot(range(epoch), self.losses)\n",
        "            self.ax2.set_xlabel('Epochs')\n",
        "            self.ax2.set_ylabel('Loss')\n",
        "        self.fig.canvas.draw()\n",
        "    \n",
        "    def on_train_begin(self, logs=None):\n",
        "        self.losses = []\n",
        "        self.fig.show()\n",
        "        self.fig.canvas.draw()\n",
        "        self.plot()\n",
        "        \n",
        "    def on_epoch_end(self, epoch, logs=None):\n",
        "        self.losses.append(logs.get('loss'))\n",
        "        self.plot(epoch+1, plot_loss=True)\n"
      ],
      "metadata": {
        "id": "25TLlodLvfEz"
      },
      "execution_count": 19,
      "outputs": []
    },
    {
      "cell_type": "markdown",
      "source": [
        "Create triplet batch"
      ],
      "metadata": {
        "id": "Bn-efrHKD_SO"
      }
    },
    {
      "cell_type": "code",
      "source": [
        "def create_batch(batch_size):\n",
        "  anchors = np.zeros((batch_size, 784))\n",
        "  positives = np.zeros((batch_size, 784))\n",
        "  negatives = np.zeros((batch_size, 784))\n",
        "\n",
        "  for i in range(0, batch_size):\n",
        "    index = random.randint(0,60000-1) # get a random image among 60,000 training samples\n",
        "    anc = x_train[index]\n",
        "    y = y_train[index] # get the label of the random picked image\n",
        "\n",
        "    indices_for_pos = np.squeeze(np.where(y_train==y)) # get rid of the second element of the tuple\n",
        "    indices_for_neg = np.squeeze(np.where(y_train!=y))\n",
        "\n",
        "    # pick one positive example\n",
        "    pos = x_train[indices_for_pos[random.randint(0, len(indices_for_pos)-1)]]\n",
        "    # pick one negative example\n",
        "    neg = x_train[indices_for_neg[random.randint(0, len(indices_for_pos)-1)]]\n",
        "\n",
        "    anchors[i] = anc\n",
        "    positives[i] = pos\n",
        "    negatives[i] = neg\n",
        "    \n",
        "  return [anchors, positives, negatives]"
      ],
      "metadata": {
        "id": "ej-mCJ-jyeRm"
      },
      "execution_count": 36,
      "outputs": []
    },
    {
      "cell_type": "code",
      "source": [
        "triplet = create_batch(1)\n",
        "plot_triplet(triplet)"
      ],
      "metadata": {
        "colab": {
          "base_uri": "https://localhost:8080/",
          "height": 173
        },
        "id": "rFTnRpNCzolW",
        "outputId": "246c398e-ee41-4aa2-8e43-8705ead27050"
      },
      "execution_count": 40,
      "outputs": [
        {
          "output_type": "display_data",
          "data": {
            "text/plain": [
              "<Figure size 600x200 with 3 Axes>"
            ],
            "image/png": "[encoded data removed]"
          },
          "metadata": {}
        }
      ]
    },
    {
      "cell_type": "markdown",
      "source": [
        "Build embedding model"
      ],
      "metadata": {
        "id": "4BbfQ4x7Dwex"
      }
    },
    {
      "cell_type": "code",
      "source": [
        "emb_dim = 64\n",
        "\n",
        "embedding_model = tf.keras.models.Sequential([\n",
        "    tf.keras.layers.Dense(64, activation='relu', input_shape=(784,)),\n",
        "    tf.keras.layers.Dense(emb_dim, activation='sigmoid')\n",
        "])\n",
        "\n",
        "embedding_model.summary()"
      ],
      "metadata": {
        "colab": {
          "base_uri": "https://localhost:8080/"
        },
        "id": "RU1pV_yaD0Nm",
        "outputId": "98a25b72-44f8-4d03-b61b-bd31e9e8994d"
      },
      "execution_count": 42,
      "outputs": [
        {
          "output_type": "stream",
          "name": "stdout",
          "text": [
            "Model: \"sequential\"\n",
            "_________________________________________________________________\n",
            " Layer (type)                Output Shape              Param #   \n",
            "=================================================================\n",
            " dense (Dense)               (None, 64)                50240     \n",
            "                                                                 \n",
            " dense_1 (Dense)             (None, 64)                4160      \n",
            "                                                                 \n",
            "=================================================================\n",
            "Total params: 54,400\n",
            "Trainable params: 54,400\n",
            "Non-trainable params: 0\n",
            "_________________________________________________________________\n"
          ]
        }
      ]
    },
    {
      "cell_type": "code",
      "source": [
        "example = x_train[0]\n",
        "example_embedding = embedding_model.predict(np.expand_dims(example, axis=0))\n",
        "print(example_embedding.shape)"
      ],
      "metadata": {
        "colab": {
          "base_uri": "https://localhost:8080/"
        },
        "id": "EPObr6zsErvF",
        "outputId": "6f764f3b-387a-4e34-9b32-7fdfc1a0f5dc"
      },
      "execution_count": 43,
      "outputs": [
        {
          "output_type": "stream",
          "name": "stdout",
          "text": [
            "1/1 [==============================] - 3s 3s/step\n",
            "(1, 64)\n"
          ]
        }
      ]
    },
    {
      "cell_type": "markdown",
      "source": [
        "Build the siamese net"
      ],
      "metadata": {
        "id": "7sYyR7zZHGs_"
      }
    },
    {
      "cell_type": "code",
      "source": [
        "anc_input = tf.keras.layers.Input(shape=(784,))\n",
        "pos_input = tf.keras.layers.Input(shape=(784,))\n",
        "neg_input = tf.keras.layers.Input(shape=(784,))\n",
        "\n",
        "em_anc = embedding_model(anc_input)\n",
        "em_pos = embedding_model(pos_input)\n",
        "em_neg = embedding_model(neg_input)\n",
        "\n",
        "out = tf.keras.layers.concatenate([em_anc, em_pos, em_neg], axis=1) # cat in the 2nd dimension - column wise\n",
        "net = tf.keras.models.Model(inputs=[anc_input, pos_input, neg_input], outputs=out)"
      ],
      "metadata": {
        "id": "XEU8VBbdHJT-"
      },
      "execution_count": 45,
      "outputs": []
    },
    {
      "cell_type": "code",
      "source": [
        "net.summary()"
      ],
      "metadata": {
        "colab": {
          "base_uri": "https://localhost:8080/"
        },
        "id": "04mccxEVICIw",
        "outputId": "cdd30568-13aa-430c-d924-a3dc63c0cf7a"
      },
      "execution_count": 46,
      "outputs": [
        {
          "output_type": "stream",
          "name": "stdout",
          "text": [
            "Model: \"model\"\n",
            "__________________________________________________________________________________________________\n",
            " Layer (type)                   Output Shape         Param #     Connected to                     \n",
            "==================================================================================================\n",
            " input_4 (InputLayer)           [(None, 784)]        0           []                               \n",
            "                                                                                                  \n",
            " input_5 (InputLayer)           [(None, 784)]        0           []                               \n",
            "                                                                                                  \n",
            " input_6 (InputLayer)           [(None, 784)]        0           []                               \n",
            "                                                                                                  \n",
            " sequential (Sequential)        (None, 64)           54400       ['input_4[0][0]',                \n",
            "                                                                  'input_5[0][0]',                \n",
            "                                                                  'input_6[0][0]']                \n",
            "                                                                                                  \n",
            " concatenate_1 (Concatenate)    (None, 192)          0           ['sequential[3][0]',             \n",
            "                                                                  'sequential[4][0]',             \n",
            "                                                                  'sequential[5][0]']             \n",
            "                                                                                                  \n",
            "==================================================================================================\n",
            "Total params: 54,400\n",
            "Trainable params: 54,400\n",
            "Non-trainable params: 0\n",
            "__________________________________________________________________________________________________\n"
          ]
        }
      ]
    },
    {
      "cell_type": "markdown",
      "source": [
        "define the triplet loss"
      ],
      "metadata": {
        "id": "ZEvmCgK1Irea"
      }
    },
    {
      "cell_type": "code",
      "source": [
        "def triplet_loss(alpha, emb_dim):\n",
        "  def loss(y_true, y_pred):\n",
        "    anc, pos, neg = y_pred[:,:emb_dim], y_pred[:,emb_dim:2*emb_dim], y_pred[:,2*emb_dim:]\n",
        "    dis_pos = tf.reduce_mean(tf.square(anc-pos), axis=1)\n",
        "    dis_neg = tf.reduce_mean(tf.square(anc-neg), axis=1)\n",
        "    loss_value = tf.maximum(dis_pos - dis_neg + alpha, 0.0)\n",
        "    return loss_value\n",
        "\n",
        "  return loss"
      ],
      "metadata": {
        "id": "P7KJVprHItpe"
      },
      "execution_count": 47,
      "outputs": []
    },
    {
      "cell_type": "markdown",
      "source": [
        "Create Data Generator"
      ],
      "metadata": {
        "id": "GdJvkc7-Mvn8"
      }
    },
    {
      "cell_type": "code",
      "source": [
        "def data_generator(batch_size, emb_dim):\n",
        "  while True:\n",
        "    x = create_batch(batch_size)\n",
        "    y = np.zeros((batch_size, 3*emb_dim))\n",
        "    yield x, y"
      ],
      "metadata": {
        "id": "_sxsus1FMrl-"
      },
      "execution_count": 48,
      "outputs": []
    },
    {
      "cell_type": "markdown",
      "source": [
        "Model training"
      ],
      "metadata": {
        "id": "YgvTZ7eQNn4e"
      }
    },
    {
      "cell_type": "code",
      "source": [
        "batch_size =256\n",
        "epochs = 10\n",
        "steps_per_epoch = int(60000/batch_size)\n",
        "\n",
        "net.compile(loss=triplet_loss(alpha=0.2, emb_dim=emb_dim), optimizer='adam')\n",
        "\n",
        "X, Y = x_test[:1000], y_test[:1000]"
      ],
      "metadata": {
        "id": "3k8AYc6tMybi"
      },
      "execution_count": 50,
      "outputs": []
    },
    {
      "cell_type": "code",
      "source": [
        "history = net.fit(data_generator(batch_size=batch_size, emb_dim=emb_dim), epochs=epochs, steps_per_epoch=steps_per_epoch, \n",
        "                  callbacks=[PCAPlotter(plt, embedding_model, X, Y)], verbose=2)"
      ],
      "metadata": {
        "colab": {
          "base_uri": "https://localhost:8080/",
          "height": 926
        },
        "id": "gmeRpx6ENprN",
        "outputId": "24f15cfa-ce1a-41e4-b392-548270e30ae5"
      },
      "execution_count": 51,
      "outputs": [
        {
          "output_type": "stream",
          "name": "stdout",
          "text": [
            "32/32 [==============================] - 0s 1ms/step\n",
            "Epoch 1/10\n",
            "32/32 [==============================] - 0s 2ms/step\n",
            "234/234 - 23s - loss: 0.0655 - 23s/epoch - 98ms/step\n",
            "Epoch 2/10\n",
            "32/32 [==============================] - 0s 2ms/step\n",
            "234/234 - 20s - loss: 0.0365 - 20s/epoch - 84ms/step\n",
            "Epoch 3/10\n",
            "32/32 [==============================] - 0s 2ms/step\n",
            "234/234 - 22s - loss: 0.0286 - 22s/epoch - 93ms/step\n",
            "Epoch 4/10\n",
            "32/32 [==============================] - 0s 2ms/step\n",
            "234/234 - 22s - loss: 0.0230 - 22s/epoch - 95ms/step\n",
            "Epoch 5/10\n",
            "32/32 [==============================] - 0s 3ms/step\n",
            "234/234 - 20s - loss: 0.0192 - 20s/epoch - 86ms/step\n",
            "Epoch 6/10\n",
            "32/32 [==============================] - 0s 2ms/step\n",
            "234/234 - 20s - loss: 0.0168 - 20s/epoch - 86ms/step\n",
            "Epoch 7/10\n",
            "32/32 [==============================] - 0s 2ms/step\n",
            "234/234 - 20s - loss: 0.0151 - 20s/epoch - 88ms/step\n",
            "Epoch 8/10\n",
            "32/32 [==============================] - 0s 2ms/step\n",
            "234/234 - 20s - loss: 0.0134 - 20s/epoch - 84ms/step\n",
            "Epoch 9/10\n",
            "32/32 [==============================] - 0s 2ms/step\n",
            "234/234 - 20s - loss: 0.0122 - 20s/epoch - 87ms/step\n",
            "Epoch 10/10\n",
            "32/32 [==============================] - 0s 3ms/step\n",
            "234/234 - 20s - loss: 0.0118 - 20s/epoch - 86ms/step\n"
          ]
        },
        {
          "output_type": "display_data",
          "data": {
            "text/plain": [
              "<Figure size 900x400 with 2 Axes>"
            ],
            "image/png": "[encoded data removed]"
          },
          "metadata": {}
        }
      ]
    }
  ]
}