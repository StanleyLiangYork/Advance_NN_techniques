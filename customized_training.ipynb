{
  "nbformat": 4,
  "nbformat_minor": 0,
  "metadata": {
    "colab": {
      "name": "customized_training.ipynb",
      "provenance": [],
      "collapsed_sections": [],
      "authorship_tag": "ABX9TyMXdvgwHU1TwvwLyUUoJ4kR",
      "include_colab_link": true
    },
    "kernelspec": {
      "name": "python3",
      "display_name": "Python 3"
    },
    "language_info": {
      "name": "python"
    }
  },
  "cells": [
    {
      "cell_type": "markdown",
      "metadata": {
        "id": "view-in-github",
        "colab_type": "text"
      },
      "source": [
        "<a href=\"https://colab.research.google.com/github/StanleyLiangYork/Advance_NN_techniques/blob/main/customized_training.ipynb\" target=\"_parent\"><img src=\"https://colab.research.google.com/assets/colab-badge.svg\" alt=\"Open In Colab\"/></a>"
      ]
    },
    {
      "cell_type": "code",
      "metadata": {
        "id": "Xeq3wfUM6LqG"
      },
      "source": [
        "import os\n",
        "import matplotlib.pyplot as plt\n",
        "import pandas as pd\n",
        "import numpy as np\n",
        "import tensorflow as tf\n",
        "from shutil import copy2"
      ],
      "execution_count": 33,
      "outputs": []
    },
    {
      "cell_type": "code",
      "metadata": {
        "colab": {
          "base_uri": "https://localhost:8080/"
        },
        "id": "BoZFH9Tw6Wyx",
        "outputId": "bbffebd6-27eb-4c05-81b7-23e85c8a8351"
      },
      "source": [
        "train_dataset_url = \"https://storage.googleapis.com/download.tensorflow.org/data/iris_training.csv\"\n",
        "\n",
        "train_dataset_fp = tf.keras.utils.get_file(fname=os.path.basename(train_dataset_url),\n",
        "                                           origin=train_dataset_url)\n",
        "\n",
        "print(\"Local copy of the dataset file: {}\".format(train_dataset_fp))"
      ],
      "execution_count": 2,
      "outputs": [
        {
          "output_type": "stream",
          "text": [
            "Downloading data from https://storage.googleapis.com/download.tensorflow.org/data/iris_training.csv\n",
            "\r8192/2194 [================================================================================================================] - 0s 0us/step\n",
            "Local copy of the dataset file: /root/.keras/datasets/iris_training.csv\n"
          ],
          "name": "stdout"
        }
      ]
    },
    {
      "cell_type": "code",
      "metadata": {
        "colab": {
          "base_uri": "https://localhost:8080/",
          "height": 35
        },
        "id": "YGFVYe8e6beX",
        "outputId": "9467eb18-88f4-46f3-c720-72aebcfbfd2b"
      },
      "source": [
        "root = os.getcwd()\n",
        "copy2(train_dataset_fp, root)"
      ],
      "execution_count": 3,
      "outputs": [
        {
          "output_type": "execute_result",
          "data": {
            "application/vnd.google.colaboratory.intrinsic+json": {
              "type": "string"
            },
            "text/plain": [
              "'/content/iris_training.csv'"
            ]
          },
          "metadata": {
            "tags": []
          },
          "execution_count": 3
        }
      ]
    },
    {
      "cell_type": "code",
      "metadata": {
        "colab": {
          "base_uri": "https://localhost:8080/"
        },
        "id": "Y_lPh1zy7S7S",
        "outputId": "3aeadb42-f17d-4ec5-bd42-d3a6fabeecc6"
      },
      "source": [
        "! head -n5 iris_training.csv"
      ],
      "execution_count": 4,
      "outputs": [
        {
          "output_type": "stream",
          "text": [
            "120,4,setosa,versicolor,virginica\n",
            "6.4,2.8,5.6,2.2,2\n",
            "5.0,2.3,3.3,1.0,1\n",
            "4.9,2.5,4.5,1.7,2\n",
            "4.9,3.1,1.5,0.1,0\n"
          ],
          "name": "stdout"
        }
      ]
    },
    {
      "cell_type": "code",
      "metadata": {
        "colab": {
          "base_uri": "https://localhost:8080/"
        },
        "id": "7dPfywNR7wTc",
        "outputId": "6b974507-7097-4754-eb02-ab31704f4e52"
      },
      "source": [
        "# column order in CSV file\n",
        "column_names = ['sepal_length', 'sepal_width', 'petal_length', 'petal_width', 'species']\n",
        "\n",
        "feature_names = column_names[:-1]\n",
        "label_name = column_names[-1]\n",
        "\n",
        "print(\"Features: {}\".format(feature_names))\n",
        "print(\"Label: {}\".format(label_name))"
      ],
      "execution_count": 5,
      "outputs": [
        {
          "output_type": "stream",
          "text": [
            "Features: ['sepal_length', 'sepal_width', 'petal_length', 'petal_width']\n",
            "Label: species\n"
          ],
          "name": "stdout"
        }
      ]
    },
    {
      "cell_type": "code",
      "metadata": {
        "id": "Mw_bNc_R76ww"
      },
      "source": [
        "class_names = ['Iris setosa', 'Iris versicolor', 'Iris virginica']"
      ],
      "execution_count": 6,
      "outputs": []
    },
    {
      "cell_type": "code",
      "metadata": {
        "id": "lekmajT279Z6"
      },
      "source": [
        "batch_size = 64\n",
        "\n",
        "train_dataset = tf.data.experimental.make_csv_dataset(\n",
        "    train_dataset_fp,\n",
        "    batch_size,\n",
        "    column_names=column_names,\n",
        "    label_name=label_name,\n",
        "    num_epochs=1)"
      ],
      "execution_count": 7,
      "outputs": []
    },
    {
      "cell_type": "code",
      "metadata": {
        "colab": {
          "base_uri": "https://localhost:8080/"
        },
        "id": "cDCCQ6aJ8Hb9",
        "outputId": "e6bf27ca-d12e-402f-cbd7-d8a894157286"
      },
      "source": [
        "features, labels = next(iter(train_dataset))\n",
        "\n",
        "print(features)\n",
        "print(labels)"
      ],
      "execution_count": 8,
      "outputs": [
        {
          "output_type": "stream",
          "text": [
            "OrderedDict([('sepal_length', <tf.Tensor: shape=(64,), dtype=float32, numpy=\n",
            "array([7.7, 4.8, 5.4, 5. , 6.1, 6.4, 4.9, 6.8, 4.8, 4.8, 5. , 7.7, 5.8,\n",
            "       4.4, 6.6, 4.4, 5.4, 5.6, 7.7, 5.5, 5.1, 6. , 5.8, 5.9, 5.8, 6.8,\n",
            "       5.6, 6.7, 5.7, 6.5, 5.4, 5.1, 4.9, 6.5, 7.9, 7.6, 5.5, 5.1, 6.6,\n",
            "       5. , 5. , 5.7, 6.2, 4.9, 6.9, 7.3, 6.5, 6.1, 4.7, 7.2, 4.9, 5.1,\n",
            "       4.8, 6.3, 5.7, 5.8, 6.4, 6.7, 6. , 6.8, 6.7, 6. , 6.4, 5.7],\n",
            "      dtype=float32)>), ('sepal_width', <tf.Tensor: shape=(64,), dtype=float32, numpy=\n",
            "array([3. , 3. , 3.9, 3.2, 3. , 2.8, 3. , 2.8, 3. , 3.4, 3.4, 2.8, 4. ,\n",
            "       3.2, 3. , 2.9, 3. , 2.9, 3.8, 2.4, 2.5, 2.7, 2.7, 3.2, 2.7, 3.2,\n",
            "       2.5, 3.3, 2.8, 3. , 3.4, 3.5, 2.4, 3. , 3.8, 3. , 2.6, 3.8, 2.9,\n",
            "       3.5, 3. , 3. , 2.8, 3.1, 3.1, 2.9, 2.8, 2.6, 3.2, 3.2, 3.1, 3.8,\n",
            "       3.1, 2.7, 3.8, 2.8, 2.8, 3. , 2.9, 3. , 3.1, 3. , 3.2, 4.4],\n",
            "      dtype=float32)>), ('petal_length', <tf.Tensor: shape=(64,), dtype=float32, numpy=\n",
            "array([6.1, 1.4, 1.3, 1.2, 4.9, 5.6, 1.4, 4.8, 1.4, 1.6, 1.5, 6.7, 1.2,\n",
            "       1.3, 4.4, 1.4, 4.5, 3.6, 6.7, 3.8, 3. , 5.1, 5.1, 4.8, 5.1, 5.9,\n",
            "       3.9, 5.7, 4.5, 5.8, 1.5, 1.4, 3.3, 5.2, 6.4, 6.6, 4.4, 1.5, 4.6,\n",
            "       1.6, 1.6, 4.2, 4.8, 1.5, 4.9, 6.3, 4.6, 5.6, 1.6, 6. , 1.5, 1.9,\n",
            "       1.6, 4.9, 1.7, 5.1, 5.6, 5. , 4.5, 5.5, 4.4, 4.8, 4.5, 1.5],\n",
            "      dtype=float32)>), ('petal_width', <tf.Tensor: shape=(64,), dtype=float32, numpy=\n",
            "array([2.3, 0.1, 0.4, 0.2, 1.8, 2.2, 0.2, 1.4, 0.3, 0.2, 0.2, 2. , 0.2,\n",
            "       0.2, 1.4, 0.2, 1.5, 1.3, 2.2, 1.1, 1.1, 1.6, 1.9, 1.8, 1.9, 2.3,\n",
            "       1.1, 2.1, 1.3, 2.2, 0.4, 0.3, 1. , 2. , 2. , 2.1, 1.2, 0.3, 1.3,\n",
            "       0.6, 0.2, 1.2, 1.8, 0.1, 1.5, 1.8, 1.5, 1.4, 0.2, 1.8, 0.1, 0.4,\n",
            "       0.2, 1.8, 0.3, 2.4, 2.1, 1.7, 1.5, 2.1, 1.4, 1.8, 1.5, 0.4],\n",
            "      dtype=float32)>)])\n",
            "tf.Tensor(\n",
            "[2 0 0 0 2 2 0 1 0 0 0 2 0 0 1 0 1 1 2 1 1 1 2 1 2 2 1 2 1 2 0 0 1 2 2 2 1\n",
            " 0 1 0 0 1 2 0 1 2 1 2 0 2 0 0 0 2 0 2 2 1 1 2 1 2 1 0], shape=(64,), dtype=int32)\n"
          ],
          "name": "stdout"
        }
      ]
    },
    {
      "cell_type": "code",
      "metadata": {
        "colab": {
          "base_uri": "https://localhost:8080/",
          "height": 279
        },
        "id": "vXvIn53J8akU",
        "outputId": "631234cb-6b5b-49ea-ba6a-cc3ed390624b"
      },
      "source": [
        "plt.scatter(features['petal_length'],\n",
        "            features['sepal_length'],\n",
        "            c=labels,\n",
        "            cmap='viridis')\n",
        "\n",
        "plt.xlabel(\"Petal length\")\n",
        "plt.ylabel(\"Sepal length\")\n",
        "plt.show()"
      ],
      "execution_count": 9,
      "outputs": [
        {
          "output_type": "display_data",
          "data": {
            "image/png": "[encoded data removed]",
            "text/plain": [
              "<Figure size 432x288 with 1 Axes>"
            ]
          },
          "metadata": {
            "tags": [],
            "needs_background": "light"
          }
        }
      ]
    },
    {
      "cell_type": "code",
      "metadata": {
        "id": "gjmEIcyN8dwk"
      },
      "source": [
        "def pack_features_vector(features, labels):\n",
        "  \"\"\"Pack the features from a collection to a single array.\"\"\"\n",
        "  features = tf.stack(list(features.values()), axis=1)\n",
        "  return features, labels"
      ],
      "execution_count": 10,
      "outputs": []
    },
    {
      "cell_type": "code",
      "metadata": {
        "id": "Xe-WAaSx86F9"
      },
      "source": [
        "train_dataset = train_dataset.map(pack_features_vector)"
      ],
      "execution_count": 11,
      "outputs": []
    },
    {
      "cell_type": "code",
      "metadata": {
        "colab": {
          "base_uri": "https://localhost:8080/"
        },
        "id": "i-VvOZRp8_IJ",
        "outputId": "45e0ac79-113c-412f-a14f-79d3a6135111"
      },
      "source": [
        "features, labels = next(iter(train_dataset))\n",
        "\n",
        "print(features[:5])\n",
        "print(labels[:5])"
      ],
      "execution_count": 12,
      "outputs": [
        {
          "output_type": "stream",
          "text": [
            "tf.Tensor(\n",
            "[[5.1 3.8 1.9 0.4]\n",
            " [5.8 2.7 5.1 1.9]\n",
            " [6.3 3.4 5.6 2.4]\n",
            " [4.6 3.4 1.4 0.3]\n",
            " [6.9 3.1 5.1 2.3]], shape=(5, 4), dtype=float32)\n",
            "tf.Tensor([0 2 2 0 2], shape=(5,), dtype=int32)\n"
          ],
          "name": "stdout"
        }
      ]
    },
    {
      "cell_type": "markdown",
      "metadata": {
        "id": "vabYRUgwBpkh"
      },
      "source": [
        "Create a simple NN model"
      ]
    },
    {
      "cell_type": "code",
      "metadata": {
        "id": "VZVmNiFi9Ry9"
      },
      "source": [
        "model = tf.keras.Sequential([\n",
        "  tf.keras.layers.Dense(10, activation=tf.nn.relu, input_shape=(4,)),  # input shape required\n",
        "  tf.keras.layers.Dense(10, activation=tf.nn.relu),\n",
        "  tf.keras.layers.Dense(3)\n",
        "])"
      ],
      "execution_count": 13,
      "outputs": []
    },
    {
      "cell_type": "markdown",
      "metadata": {
        "id": "21OqkMGkBsig"
      },
      "source": [
        "Check the output dimension"
      ]
    },
    {
      "cell_type": "code",
      "metadata": {
        "id": "CjhxOjXeBytU"
      },
      "source": [
        "predictions = model(features)"
      ],
      "execution_count": 14,
      "outputs": []
    },
    {
      "cell_type": "code",
      "metadata": {
        "colab": {
          "base_uri": "https://localhost:8080/"
        },
        "id": "U7PVafF3BziL",
        "outputId": "20600170-f454-4622-ad83-5da7b3b3c182"
      },
      "source": [
        "print(predictions.shape)\n",
        "print(predictions[0,:])"
      ],
      "execution_count": 15,
      "outputs": [
        {
          "output_type": "stream",
          "text": [
            "(64, 3)\n",
            "tf.Tensor([-1.43809    -2.1324365   0.24008483], shape=(3,), dtype=float32)\n"
          ],
          "name": "stdout"
        }
      ]
    },
    {
      "cell_type": "code",
      "metadata": {
        "colab": {
          "base_uri": "https://localhost:8080/"
        },
        "id": "q3Qs0JLVCOeA",
        "outputId": "db166522-6b44-40b9-8ea9-d2792b7e50c5"
      },
      "source": [
        "tf.nn.softmax(predictions[0,:])"
      ],
      "execution_count": 16,
      "outputs": [
        {
          "output_type": "execute_result",
          "data": {
            "text/plain": [
              "<tf.Tensor: shape=(3,), dtype=float32, numpy=array([0.14587526, 0.0728502 , 0.78127456], dtype=float32)>"
            ]
          },
          "metadata": {
            "tags": []
          },
          "execution_count": 16
        }
      ]
    },
    {
      "cell_type": "code",
      "metadata": {
        "colab": {
          "base_uri": "https://localhost:8080/"
        },
        "id": "-8DyP08VClBt",
        "outputId": "0cd96d2b-1de4-494d-c18e-7f4351c678d7"
      },
      "source": [
        "print(\"Prediction: {}\".format(tf.argmax(predictions[:5], axis=1)))\n",
        "print(\"    Labels: {}\".format(labels[:5]))"
      ],
      "execution_count": 17,
      "outputs": [
        {
          "output_type": "stream",
          "text": [
            "Prediction: [2 2 2 2 2]\n",
            "    Labels: [0 2 2 0 2]\n"
          ],
          "name": "stdout"
        }
      ]
    },
    {
      "cell_type": "markdown",
      "metadata": {
        "id": "eZ_02OguDQ-5"
      },
      "source": [
        "Use the SparseCategorical Crossentropy for multi-class"
      ]
    },
    {
      "cell_type": "code",
      "metadata": {
        "id": "NpJEzEW-DQSC"
      },
      "source": [
        "loss_object = tf.keras.losses.SparseCategoricalCrossentropy(from_logits=True)"
      ],
      "execution_count": 18,
      "outputs": []
    },
    {
      "cell_type": "code",
      "metadata": {
        "colab": {
          "base_uri": "https://localhost:8080/"
        },
        "id": "UuXQvQ2pCsVw",
        "outputId": "d1aa0616-b9db-44cc-cac3-20c168b8789a"
      },
      "source": [
        "def loss(model, x, y, training):\n",
        "  # training=training is needed only if there are layers with different\n",
        "  # behavior during training versus inference (e.g. Dropout).\n",
        "  y_hat = model(x, training=training)\n",
        "\n",
        "  return loss_object(y_true=y, y_pred=y_hat)\n",
        "\n",
        "\n",
        "l = loss(model, features, labels, training=False)\n",
        "print(\"Loss test: {}\".format(l))"
      ],
      "execution_count": 19,
      "outputs": [
        {
          "output_type": "stream",
          "text": [
            "Loss test: 1.540482521057129\n"
          ],
          "name": "stdout"
        }
      ]
    },
    {
      "cell_type": "markdown",
      "metadata": {
        "id": "Lx9zMVR3FgV6"
      },
      "source": [
        "Record the gradients for back prop"
      ]
    },
    {
      "cell_type": "code",
      "metadata": {
        "id": "TWy6HwLbFbcL"
      },
      "source": [
        "def grad(model, inputs, targets):\n",
        "  with tf.GradientTape() as tape:\n",
        "    loss_value = loss(model, inputs, targets, training=True)\n",
        "  return loss_value, tape.gradient(loss_value, model.trainable_variables)"
      ],
      "execution_count": 20,
      "outputs": []
    },
    {
      "cell_type": "code",
      "metadata": {
        "id": "dC8GkP-0DZjF"
      },
      "source": [
        "optimizer = tf.keras.optimizers.RMSprop(learning_rate=0.002)"
      ],
      "execution_count": 21,
      "outputs": []
    },
    {
      "cell_type": "markdown",
      "metadata": {
        "id": "RkfPwZbgGnWd"
      },
      "source": [
        "Get the loss and gradient of a single optimization step:"
      ]
    },
    {
      "cell_type": "code",
      "metadata": {
        "colab": {
          "base_uri": "https://localhost:8080/"
        },
        "id": "zSH5EPUWGNWM",
        "outputId": "c6f2d7e9-057c-498f-9bcd-9dac523496ca"
      },
      "source": [
        "loss_value, grads = grad(model, features, labels)\n",
        "\n",
        "print(\"Step: {}, Initial Loss: {}\".format(optimizer.iterations.numpy(), loss_value.numpy()))"
      ],
      "execution_count": 22,
      "outputs": [
        {
          "output_type": "stream",
          "text": [
            "Step: 0, Initial Loss: 1.540482521057129\n"
          ],
          "name": "stdout"
        }
      ]
    },
    {
      "cell_type": "markdown",
      "metadata": {
        "id": "f0l-Rp22Hz-6"
      },
      "source": [
        "A single gradient descend walk"
      ]
    },
    {
      "cell_type": "code",
      "metadata": {
        "colab": {
          "base_uri": "https://localhost:8080/"
        },
        "id": "mClWHJoNHTbr",
        "outputId": "a6f2d25e-9ea7-49b6-c43c-85a8ca0b4fd6"
      },
      "source": [
        "optimizer.apply_gradients(zip(grads, model.trainable_variables))\n",
        "\n",
        "print(\"Step: {}, Loss: {}\".format(optimizer.iterations.numpy(), loss(model, features, labels, training=True).numpy()))"
      ],
      "execution_count": 23,
      "outputs": [
        {
          "output_type": "stream",
          "text": [
            "Step: 1, Loss: 1.4158402681350708\n"
          ],
          "name": "stdout"
        }
      ]
    },
    {
      "cell_type": "markdown",
      "metadata": {
        "id": "wJH_PMQ2IADt"
      },
      "source": [
        "A training loop"
      ]
    },
    {
      "cell_type": "code",
      "metadata": {
        "colab": {
          "base_uri": "https://localhost:8080/"
        },
        "id": "fEpAU1oNH3a3",
        "outputId": "3b847816-836d-4289-c244-5b794c1d8e29"
      },
      "source": [
        "## Note: Rerunning this cell uses the same model variables\n",
        "\n",
        "# Keep results for plotting\n",
        "train_loss_results = []\n",
        "train_accuracy_results = []\n",
        "\n",
        "num_epochs = 200\n",
        "\n",
        "for epoch in range(num_epochs):\n",
        "  epoch_loss_avg = tf.keras.metrics.Mean()\n",
        "  epoch_accuracy = tf.keras.metrics.SparseCategoricalAccuracy()\n",
        "\n",
        "  # Training loop - batche_size = 64\n",
        "  for x, y in train_dataset:\n",
        "    # Optimize the model\n",
        "    loss_value, grads = grad(model, x, y)\n",
        "    # the weights of model are updated by this gradient descent step\n",
        "    optimizer.apply_gradients(zip(grads, model.trainable_variables))\n",
        "\n",
        "    # Track progress\n",
        "    epoch_loss_avg.update_state(loss_value)  # Add current batch loss\n",
        "    # Compare predicted label to actual label\n",
        "    # training=True is needed only if there are layers with different\n",
        "    # behavior during training versus inference (e.g. Dropout).\n",
        "    epoch_accuracy.update_state(y, model(x, training=True))\n",
        "\n",
        "  # End epoch\n",
        "  train_loss_results.append(epoch_loss_avg.result())\n",
        "  train_accuracy_results.append(epoch_accuracy.result())\n",
        "\n",
        "  if epoch % 50 == 0:\n",
        "    print(\"Epoch {:03d}: Loss: {:.3f}, Accuracy: {:.3%}\".format(epoch,\n",
        "                                                                epoch_loss_avg.result(),\n",
        "                                                                epoch_accuracy.result()))"
      ],
      "execution_count": 24,
      "outputs": [
        {
          "output_type": "stream",
          "text": [
            "Epoch 000: Loss: 1.375, Accuracy: 35.000%\n",
            "Epoch 050: Loss: 0.650, Accuracy: 70.833%\n",
            "Epoch 100: Loss: 0.289, Accuracy: 95.833%\n",
            "Epoch 150: Loss: 0.154, Accuracy: 97.500%\n"
          ],
          "name": "stdout"
        }
      ]
    },
    {
      "cell_type": "markdown",
      "metadata": {
        "id": "8l0dK5omP3Fe"
      },
      "source": [
        "Visualize the training procedure"
      ]
    },
    {
      "cell_type": "code",
      "metadata": {
        "colab": {
          "base_uri": "https://localhost:8080/",
          "height": 558
        },
        "id": "Niv08WiYPvy3",
        "outputId": "dd1d719e-d605-44f7-8aa9-1b18f6bcd983"
      },
      "source": [
        "fig, axes = plt.subplots(nrows=1, ncols=2, sharex=True, figsize=(16, 8))\n",
        "fig.suptitle('Training Metrics')\n",
        "\n",
        "axes[0].set_ylabel(\"Loss\", fontsize=14)\n",
        "axes[0].plot(train_loss_results)\n",
        "\n",
        "axes[1].set_ylabel(\"Accuracy\", fontsize=14)\n",
        "axes[1].set_xlabel(\"Epoch\", fontsize=14)\n",
        "axes[1].plot(train_accuracy_results)\n",
        "plt.show()"
      ],
      "execution_count": 27,
      "outputs": [
        {
          "output_type": "display_data",
          "data": {
            "image/png": "[encoded data removed]",
            "text/plain": [
              "<Figure size 1152x576 with 2 Axes>"
            ]
          },
          "metadata": {
            "tags": [],
            "needs_background": "light"
          }
        }
      ]
    },
    {
      "cell_type": "markdown",
      "metadata": {
        "id": "UoO9lHzKb9BZ"
      },
      "source": [
        "Load the test dataset"
      ]
    },
    {
      "cell_type": "code",
      "metadata": {
        "colab": {
          "base_uri": "https://localhost:8080/"
        },
        "id": "4-rWVX3Ob1yH",
        "outputId": "a4e83000-5de7-4f08-e97e-2a8a610100e3"
      },
      "source": [
        "test_url = \"https://storage.googleapis.com/download.tensorflow.org/data/iris_test.csv\"\n",
        "\n",
        "test_fp = tf.keras.utils.get_file(fname=os.path.basename(test_url),\n",
        "                                  origin=test_url)"
      ],
      "execution_count": 28,
      "outputs": [
        {
          "output_type": "stream",
          "text": [
            "Downloading data from https://storage.googleapis.com/download.tensorflow.org/data/iris_test.csv\n",
            "\r8192/573 [============================================================================================================================================================================================================================================================================================================================================================================================================================================] - 0s 0us/step\n"
          ],
          "name": "stdout"
        }
      ]
    },
    {
      "cell_type": "code",
      "metadata": {
        "colab": {
          "base_uri": "https://localhost:8080/",
          "height": 35
        },
        "id": "diXPYJZXcBf8",
        "outputId": "8c2b3472-379e-4083-a44e-2b0fd5390116"
      },
      "source": [
        "root = os.getcwd()\n",
        "copy2(test_fp, root)"
      ],
      "execution_count": 29,
      "outputs": [
        {
          "output_type": "execute_result",
          "data": {
            "application/vnd.google.colaboratory.intrinsic+json": {
              "type": "string"
            },
            "text/plain": [
              "'/content/iris_test.csv'"
            ]
          },
          "metadata": {
            "tags": []
          },
          "execution_count": 29
        }
      ]
    },
    {
      "cell_type": "code",
      "metadata": {
        "id": "sbmb0Uk5cYjD"
      },
      "source": [
        "test_dataset = tf.data.experimental.make_csv_dataset(\n",
        "    test_fp,\n",
        "    batch_size,\n",
        "    column_names=column_names,\n",
        "    label_name='species',\n",
        "    num_epochs=1,\n",
        "    shuffle=False)\n",
        "\n",
        "test_dataset = test_dataset.map(pack_features_vector)"
      ],
      "execution_count": 30,
      "outputs": []
    },
    {
      "cell_type": "code",
      "metadata": {
        "colab": {
          "base_uri": "https://localhost:8080/"
        },
        "id": "6fawBSS8cyFA",
        "outputId": "3a1eeb1c-69b8-490d-da1b-a0173305c4ee"
      },
      "source": [
        "test_accuracy = tf.keras.metrics.Accuracy()\n",
        "\n",
        "for (x, y) in test_dataset:\n",
        "  # training=False is needed only if there are layers with different\n",
        "  # behavior during training versus inference (e.g. Dropout).\n",
        "  logits = model(x, training=False)\n",
        "  prediction = tf.argmax(logits, axis=1, output_type=tf.int32)\n",
        "  test_accuracy(prediction, y)\n",
        "\n",
        "print(\"Test set accuracy: {:.3%}\".format(test_accuracy.result()))"
      ],
      "execution_count": 31,
      "outputs": [
        {
          "output_type": "stream",
          "text": [
            "Test set accuracy: 96.667%\n"
          ],
          "name": "stdout"
        }
      ]
    },
    {
      "cell_type": "markdown",
      "metadata": {
        "id": "8F5bE5xVr67R"
      },
      "source": [
        "Make a GAN\n"
      ]
    },
    {
      "cell_type": "code",
      "metadata": {
        "id": "7QnEfmqXr5GM"
      },
      "source": [
        ""
      ],
      "execution_count": null,
      "outputs": []
    }
  ]
}